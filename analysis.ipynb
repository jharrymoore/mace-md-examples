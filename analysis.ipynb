{
 "cells": [
  {
   "attachments": {},
   "cell_type": "markdown",
   "metadata": {},
   "source": [
    "### This notebook contains a selection of useful functions for analysing and visualising MD trajectories.  We rely heavily on [MDAnalysis](https://www.mdanalysis.org) and [mdtraj](https://www.mdtraj.org/1.9.8.dev0/index.html) for optimised analysis routines that operate on trajectory data"
   ]
  },
  {
   "cell_type": "code",
   "execution_count": 2,
   "metadata": {},
   "outputs": [
    {
     "name": "stderr",
     "output_type": "stream",
     "text": [
      "/home/jhm72/miniconda3/envs/mace-mlmm/lib/python3.10/site-packages/MDAnalysis/coordinates/DCD.py:165: DeprecationWarning: DCDReader currently makes independent timesteps by copying self.ts while other readers update self.ts inplace. This behavior will be changed in 3.0 to be the same as other readers. Read more at https://github.com/MDAnalysis/mdanalysis/issues/3889 to learn if this change in behavior might affect you.\n",
      "  warnings.warn(\"DCDReader currently makes independent timesteps\"\n"
     ]
    },
    {
     "data": {
      "application/vnd.jupyter.widget-view+json": {
       "model_id": "df4639d980d2461d927b92a0293cbae9",
       "version_major": 2,
       "version_minor": 0
      },
      "text/plain": [
       "NGLWidget(max_frame=99)"
      ]
     },
     "metadata": {},
     "output_type": "display_data"
    }
   ],
   "source": [
    "# visualise a trajectory generated from running the pure MD simulation\n",
    "\n",
    "import MDAnalysis as mda\n",
    "import nglview as nv\n",
    "import numpy as np\n",
    "from MDAnalysis import transformations\n",
    "\n",
    "\n",
    "output_dir = \"junk/pure_md/\"\n",
    "\n",
    "u = mda.Universe(f\"{output_dir}/minimised_system.pdb\", f\"{output_dir}/output.dcd\")\n",
    "\n",
    "view = nv.show_mdanalysis(u)\n",
    "\n",
    "view.add_unitcell()\n",
    "view.control.rotate(\n",
    "    mda.lib.transformations.quaternion_from_euler(\n",
    "        -np.pi/2, np.pi/3, np.pi/6, 'rzyz').tolist())\n",
    "view.control.zoom(-0.3)\n",
    "view"
   ]
  },
  {
   "cell_type": "code",
   "execution_count": null,
   "metadata": {},
   "outputs": [],
   "source": []
  }
 ],
 "metadata": {
  "kernelspec": {
   "display_name": "mace-mlmm",
   "language": "python",
   "name": "python3"
  },
  "language_info": {
   "codemirror_mode": {
    "name": "ipython",
    "version": 3
   },
   "file_extension": ".py",
   "mimetype": "text/x-python",
   "name": "python",
   "nbconvert_exporter": "python",
   "pygments_lexer": "ipython3",
   "version": "3.10.9"
  },
  "orig_nbformat": 4
 },
 "nbformat": 4,
 "nbformat_minor": 2
}
