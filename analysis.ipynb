{
 "cells": [
  {
   "attachments": {},
   "cell_type": "markdown",
   "metadata": {},
   "source": [
    "### This notebook contains a selection of useful functions for analysing and visualising MD trajectories.  We rely heavily on [MDAnalysis](https://www.mdanalysis.org) and [mdtraj](https://www.mdtraj.org/1.9.8.dev0/index.html) for optimised analysis routines that operate on trajectory data"
   ]
  },
  {
   "cell_type": "code",
   "execution_count": 2,
   "metadata": {},
   "outputs": [
    {
     "data": {
      "application/vnd.jupyter.widget-view+json": {
       "model_id": "2c1763cc4f5c49fabe8f04d0c937743a",
       "version_major": 2,
       "version_minor": 0
      },
      "text/plain": [
       "NGLWidget(max_frame=99)"
      ]
     },
     "metadata": {},
     "output_type": "display_data"
    }
   ],
   "source": [
    "# visualise a trajectory generated from running the pure MD simulation\n",
    "\n",
    "import MDAnalysis as mda\n",
    "import nglview as nv\n",
    "import numpy as np\n",
    "from MDAnalysis import transformations\n",
    "\n",
    "\n",
    "output_dir = \"junk/pure_md/\"\n",
    "\n",
    "u = mda.Universe(f\"{output_dir}/output.pdb\")\n",
    "\n",
    "view = nv.show_mdanalysis(u)\n",
    "\n",
    "view.add_unitcell()\n",
    "view.control.rotate(\n",
    "    mda.lib.transformations.quaternion_from_euler(\n",
    "        -np.pi/2, np.pi/3, np.pi/6, 'rzyz').tolist())\n",
    "view.control.zoom(-0.3)\n",
    "view"
   ]
  },
  {
   "cell_type": "code",
   "execution_count": null,
   "metadata": {},
   "outputs": [],
   "source": []
  }
 ],
 "metadata": {
  "kernelspec": {
   "display_name": "mace-mlmm",
   "language": "python",
   "name": "python3"
  },
  "language_info": {
   "codemirror_mode": {
    "name": "ipython",
    "version": 3
   },
   "file_extension": ".py",
   "mimetype": "text/x-python",
   "name": "python",
   "nbconvert_exporter": "python",
   "pygments_lexer": "ipython3",
   "version": "3.10.9"
  },
  "orig_nbformat": 4
 },
 "nbformat": 4,
 "nbformat_minor": 2
}
